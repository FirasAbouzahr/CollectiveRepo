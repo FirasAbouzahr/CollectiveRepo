{
 "cells": [
  {
   "cell_type": "markdown",
   "id": "8f201f51",
   "metadata": {},
   "source": [
    "# Technical Functions"
   ]
  },
  {
   "cell_type": "code",
   "execution_count": 42,
   "id": "79c43fd5",
   "metadata": {},
   "outputs": [],
   "source": [
    "import pandas as pd\n",
    "import numpy as np\n",
    "import matplotlib.pyplot as plt\n",
    "from scipy.optimize import curve_fit\n",
    "\n",
    "def toGeo(x):\n",
    "    #converts PETSys ID to geometric ID\n",
    "    y = 8*indices.get(x)[0] + indices.get(x)[1]\n",
    "    return y\n",
    "\n",
    "indices = {\n",
    "      0 : (4,7-7),\n",
    "      1 : (4,7-6),\n",
    "      2 : (7,7-5),\n",
    "      3 : (5,7-7),\n",
    "      4 : (5,7-4),\n",
    "      5 : (5,7-5),\n",
    "      6 : (4,7-4),\n",
    "      7 : (7,7-7),\n",
    "      8 : (6,7-6),\n",
    "      9 : (7,7-4),\n",
    "      10 : (5,7-6),\n",
    "      11 : (6,7-4),\n",
    "      12 : (4,7-5),\n",
    "      13 : (6,7-5),\n",
    "      14 : (6,7-7),\n",
    "      15 : (7,7-6),\n",
    "      16 : (3,7-7),\n",
    "      17 : (3,7-6),\n",
    "      18 : (2,7-7),\n",
    "      19 : (2,7-6),\n",
    "      20 : (0,7-7),\n",
    "      21 : (1,7-7),\n",
    "      22 : (0,7-6),\n",
    "      23 : (1,7-6),\n",
    "      24 : (3,7-5),\n",
    "      25 : (1,7-5),\n",
    "      26 : (2,7-5),\n",
    "      27 : (4,7-3),\n",
    "      28 : (0,7-5),\n",
    "      29 : (3,7-4),\n",
    "      30 : (0,7-4),\n",
    "      31 : (1,7-4),\n",
    "      32 : (2,7-4),\n",
    "      33 : (3,7-3),\n",
    "      34 : (2,7-3),\n",
    "      35 : (0,7-3),\n",
    "      36 : (1,7-3),\n",
    "      37 : (0,7-2),\n",
    "      38 : (5,7-3),\n",
    "      39 : (1,7-2),\n",
    "      40 : (2,7-2),\n",
    "      41 : (3,7-2),\n",
    "      42 : (1,7-1),\n",
    "      43 : (0,7-1),\n",
    "      44 : (0,7-0),\n",
    "      45 : (3,7-1),\n",
    "      46 : (1,7-0),\n",
    "      47 : (2,7-1),\n",
    "      48 : (3,7-0),\n",
    "      49 : (2,7-0),\n",
    "      50 : (6,7-2),\n",
    "      51 : (6,7-1),\n",
    "      52 : (7,7-1),\n",
    "      53 : (4,7-1),\n",
    "      54 : (5,7-1),\n",
    "      55 : (6,7-0),\n",
    "      56 : (7,7-0),\n",
    "      57 : (7,7-2),\n",
    "      58 : (7,7-3),\n",
    "      59 : (4,7-2),\n",
    "      60 : (5,7-0),\n",
    "      61 : (5,7-2),\n",
    "      62 : (6,7-3),\n",
    "      63 : (4,7-0),\n",
    "      64:(3+8,7),\n",
    "      65:(3+8,6),\n",
    "      66:(2+8,4),\n",
    "      67:(2+8,6),\n",
    "      68:(3+8,4),\n",
    "      69:(1+8,7),\n",
    "      70:(1+8,5),\n",
    "      71:(0+8,7),\n",
    "      72:(1+8,6),\n",
    "      73:(3+8,3),\n",
    "      74:(2+8,7),\n",
    "      75:(2+8,3),\n",
    "      76:(3+8,5),\n",
    "      77:(0+8,5),\n",
    "      78:(2+8,5),\n",
    "      79:(0+8,6),\n",
    "      80:(4+8,7),\n",
    "      81:(6+8,7),\n",
    "      82:(5+8,7),\n",
    "      83:(7+8,7),\n",
    "      84:(5+8,6),\n",
    "      85:(4+8,6),\n",
    "      86:(6+8,6),\n",
    "      87:(7+8,6),\n",
    "      88:(4+8,5),\n",
    "      89:(6+8,5),\n",
    "      90:(5+8,5),\n",
    "      91:(1+8,4),\n",
    "      92:(7+8,5),\n",
    "      93:(7+8,4),\n",
    "      94:(6+8,4),\n",
    "      95:(4+8,4),\n",
    "      96:(5+8,4),\n",
    "      97:(5+8,3),\n",
    "      98:(6+8,3),\n",
    "      99:(4+8,3),\n",
    "      100:(7+8,3),\n",
    "      101:(7+8,2),\n",
    "      102:(0+8,4),\n",
    "      103:(6+8,2),\n",
    "      104:(7+8,1),\n",
    "      105:(5+8,2),\n",
    "      106:(6+8,1),\n",
    "      107:(4+8,2),\n",
    "      108:(7+8,0),\n",
    "      109:(5+8,1),\n",
    "      110:(6+8,0),\n",
    "      111:(4+8,1),\n",
    "      112:(5+8,0),\n",
    "      113:(4+8,0),\n",
    "      114:(0+8,2),\n",
    "      115:(2+8,1),\n",
    "      116:(0+8,1),\n",
    "      117:(3+8,1),\n",
    "      118:(1+8,1),\n",
    "      119:(1+8,0),\n",
    "      120:(0+8,0),\n",
    "      121:(1+8,2),\n",
    "      122:(1+8,3),\n",
    "      123:(3+8,2),\n",
    "      124:(2+8,0),\n",
    "      125:(2+8,2),\n",
    "      126:(0+8,3),\n",
    "      127:(3+8,0)}\n",
    "\n",
    "geo_channels = []\n",
    "for i in range(128):\n",
    "    geo_channels.append([i,toGeo(i)])\n",
    "geo_channels = np.asarray(geo_channels)\n",
    "\n",
    "def toGeoChannelID(AbsChannelID):\n",
    "    # Convert PETSys absolute channel IDs to geomteric IDs\n",
    "    slaveID = AbsChannelID // 4096\n",
    "    chipID = (AbsChannelID - slaveID*4096) // 64\n",
    "    channelID = AbsChannelID % 64\n",
    "\n",
    "    PCB_ChanID = 64*(chipID % 2) + channelID\n",
    "    AbsPCB_ChanID = geo_channels[geo_channels[:,0] == PCB_ChanID][0][1]\n",
    "\n",
    "    #General formula can be found in above function \"to AbsChannelID\"\n",
    "    GeoChannelID = 10**4 * slaveID + 10**2 * chipID + AbsPCB_ChanID % 64\n",
    "    return GeoChannelID\n",
    "\n",
    "# all credit to Kyle Klein for toGeoChannelID function! \n",
    "\n",
    "\n",
    "# call this function to read in data in the manner we always do, this way we dont have to type this code every time\n",
    "# for flag \"convert_time_units\" factor to convert to.. default is time is picoseconds so to get seconds set convert_time_units = 10e9\n",
    "def getCoincidenceDataFrame(file,chunksize = None,convert_time_units = 1):\n",
    "    df = pd.read_csv(file,sep='\\t',usecols=[2,3,4,7,8,9],chunksize=chunksize)\n",
    "    df.columns = ['TimeL', 'ChargeL', 'ChannelIDL', 'TimeR', 'ChargeR', 'ChannelIDR']\n",
    "        \n",
    "    return df\n",
    "\n",
    "\n",
    "def convertDataFrameToGeoID(df):\n",
    "    geoIDL = []\n",
    "    geoIDR = []\n",
    "    for IDL,IDR in zip(df['ChannelIDL'].to_numpy(),df['ChannelIDR'].to_numpy()):\n",
    "        geoIDL.append(toGeoChannelID(IDL))\n",
    "        geoIDR.append(toGeoChannelID(IDR))\n",
    "    df['ChannelIDL'] = np.array(geoIDL).astype(int)\n",
    "    df['ChannelIDR'] = np.array(geoIDR).astype(int)\n",
    "    return 0\n",
    "\n"
   ]
  },
  {
   "cell_type": "markdown",
   "id": "546a2996",
   "metadata": {},
   "source": [
    "# Data Analysis Functions"
   ]
  },
  {
   "cell_type": "code",
   "execution_count": 103,
   "id": "b4af9137",
   "metadata": {},
   "outputs": [],
   "source": [
    "# for obtaining energy/timing resolutions\n",
    "def gaussian(x,A,mu,sig):\n",
    "    return A * np.exp(-((x-mu)/sig)**2)\n",
    "\n",
    "def SingleChannelEnergyResponse(df,channelID,bins):\n",
    "    if channelID in np.unique(df.ChannelIDL):\n",
    "        df = df[df.ChannelIDL == channelID]\n",
    "        data = df.ChargeL\n",
    "    else:\n",
    "        df = df[df.ChannelIDR == channelID]\n",
    "        data = df.ChargeR\n",
    "    \n",
    "    fig,ax = plt.subplots(figsize = (10,7))\n",
    "    y,x,_ = plt.hist(data,bins = bins)\n",
    "    bincenters = np.array([0.5 * (x[i] + x[i+1]) for i in range(len(x) - 1)])\n",
    "    \n",
    "    A = np.max(y)\n",
    "    mu = x[np.where(y == A)[0][0]]\n",
    "    guess = [A,mu,1]\n",
    "    \n",
    "    try:\n",
    "        p,c = curve_fit(gaussian,bincenters,y,p0=guess)\n",
    "        xspace = np.linspace(p[1]-2.5*p[2],p[1]+2.5*p[2])\n",
    "        ax.plot(xspace,gaussian(xspace,*p),color = 'red',linestyle='dashed')\n",
    "        FWHM = abs(2.355 * p[2])\n",
    "        eres = FWHM / p[1] * 100\n",
    "    except:\n",
    "        print('Fit-Failed')\n",
    "        eres = None\n",
    "    return eres\n",
    "\n",
    "\n",
    "def getCoincidenceTimeDiffs(df,IDL,IDR,bins):\n",
    "    df_coinc = df[df.ChannelIDL == IDL]\n",
    "    df_coinc = df_coinc[df_coinc.ChannelIDR == IDR]\n",
    "    \n",
    "    timeDiffs = []\n",
    "    for timeL,timeR in zip(df_coinc.TimeL,df_coinc.TimeR):\n",
    "        timeDiffs.append(timeL - timeR)\n",
    "    \n",
    "    fig,ax = plt.subplots(figsize = (10,7))\n",
    "    y,x,_ = plt.hist(timeDiffs,bins = bins)\n",
    "    bincenters = np.array([0.5 * (x[i] + x[i+1]) for i in range(len(x) - 1)])\n",
    "    \n",
    "    A = np.max(y)\n",
    "    mu = x[np.where(y == A)[0][0]]\n",
    "    std_cut = x[x >= mu - 2*mu]\n",
    "    std = np.std(std_cut[std_cut <= 2*mu])\n",
    "    guess = [A,mu,std]\n",
    "    \n",
    "    try:\n",
    "        p,c = curve_fit(gaussian,bincenters,y,p0=guess)\n",
    "        xspace = np.linspace(p[1]-2.5*p[2],p[1]+2.5*p[2])\n",
    "        ax.plot(xspace,gaussian(xspace,*p),color = 'red',linestyle='dashed')\n",
    "        CTR = abs(2.355 * p[2])\n",
    "    except:\n",
    "        print('Fit-Failed')\n",
    "        eres = None\n",
    "    return CTR\n",
    "    "
   ]
  },
  {
   "cell_type": "markdown",
   "id": "1e9c84f9",
   "metadata": {},
   "source": [
    "# Read-in data and convert to geometric channel ID"
   ]
  },
  {
   "cell_type": "code",
   "execution_count": 49,
   "id": "2139f202",
   "metadata": {},
   "outputs": [
    {
     "data": {
      "text/plain": [
       "0"
      ]
     },
     "execution_count": 49,
     "metadata": {},
     "output_type": "execute_result"
    }
   ],
   "source": [
    "df = getCoincidenceDataFrame('Desktop/BGO_30min_410mm_Run2_coinc.dat')\n",
    "convertDataFrameToGeoID(df)"
   ]
  },
  {
   "cell_type": "markdown",
   "id": "95c0fe33",
   "metadata": {},
   "source": [
    "# Plotting a single channel coincident energy spectrum\n",
    "- fitted with a gaussian to get energy resolution\n",
    "- SingleChannelEnergyResponse() purposefully leaves the figure open so we can edit plot aesthetics outside of the function, so after we call the function we set our own labels"
   ]
  },
  {
   "cell_type": "code",
   "execution_count": 110,
   "id": "be2758f7",
   "metadata": {},
   "outputs": [
    {
     "name": "stdout",
     "output_type": "stream",
     "text": [
      "The Energy Resolution is 23.64%\n"
     ]
    },
    {
     "data": {
      "image/png": "[encoded data removed]",
      "text/plain": [
       "<Figure size 720x504 with 1 Axes>"
      ]
     },
     "metadata": {
      "needs_background": "light"
     },
     "output_type": "display_data"
    }
   ],
   "source": [
    "Eres = SingleChannelEnergyResponse(df,1415,100)\n",
    "\n",
    "# here we add labels \n",
    "plt.ylabel('Counts',fontsize = 18)\n",
    "plt.xlabel('Charge in DAQ Units',fontsize = 18)\n",
    "plt.title('Coincidence Energy Spectrum (Channel 1415)',fontsize = 18)\n",
    "plt.xticks(fontsize = 14)\n",
    "plt.yticks(fontsize = 14)\n",
    "\n",
    "print('The Energy Resolution is ' + str(np.round(Eres,2)) + '%')"
   ]
  },
  {
   "cell_type": "markdown",
   "id": "ca630669",
   "metadata": {},
   "source": [
    "# Plotting Coincidence Time Distribution for a given Channel pair\n",
    "- fitted with a gaussian to get coincidence time resolution (CTR)\n",
    "- getCoincidenceTimeDiffs() purposefully leaves the figure open so we can edit plot aesthetics outside of the function, so after we call the function we set our own labels"
   ]
  },
  {
   "cell_type": "code",
   "execution_count": 109,
   "id": "d927a0bb",
   "metadata": {},
   "outputs": [
    {
     "name": "stdout",
     "output_type": "stream",
     "text": [
      "The Coincidence Time Resolution is 2102.7 ps\n"
     ]
    },
    {
     "data": {
      "image/png": "[encoded data removed]",
      "text/plain": [
       "<Figure size 720x504 with 1 Axes>"
      ]
     },
     "metadata": {
      "needs_background": "light"
     },
     "output_type": "display_data"
    }
   ],
   "source": [
    "CTR = getCoincidenceTimeDiffs(df,1415,154,100)\n",
    "\n",
    "# here we add labels \n",
    "plt.ylabel('Counts',fontsize = 18)\n",
    "plt.xlabel('Time Differences [ps]',fontsize = 18)\n",
    "plt.title('Time Difference Distribution (Channels 1415 & 154)',fontsize = 18)\n",
    "plt.xticks(fontsize = 14)\n",
    "plt.yticks(fontsize = 14)\n",
    "\n",
    "print('The Coincidence Time Resolution is ' + str(np.round(CTR,2)) + ' ps')"
   ]
  }
 ],
 "metadata": {
  "kernelspec": {
   "display_name": "Python 3 (ipykernel)",
   "language": "python",
   "name": "python3"
  },
  "language_info": {
   "codemirror_mode": {
    "name": "ipython",
    "version": 3
   },
   "file_extension": ".py",
   "mimetype": "text/x-python",
   "name": "python",
   "nbconvert_exporter": "python",
   "pygments_lexer": "ipython3",
   "version": "3.9.2"
  }
 },
 "nbformat": 4,
 "nbformat_minor": 5
}
